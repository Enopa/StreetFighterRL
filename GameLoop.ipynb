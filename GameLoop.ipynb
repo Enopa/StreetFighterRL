{
 "cells": [
  {
   "cell_type": "code",
   "execution_count": 2,
   "metadata": {},
   "outputs": [],
   "source": [
    "import retro\n",
    "import time"
   ]
  },
  {
   "cell_type": "code",
   "execution_count": 1,
   "metadata": {},
   "outputs": [],
   "source": [
    "!Scripts\\activate"
   ]
  },
  {
   "cell_type": "code",
   "execution_count": 10,
   "metadata": {},
   "outputs": [
    {
     "name": "stdout",
     "output_type": "stream",
     "text": [
      "C:\\Users\\07jh0\\Projects\\StreetFighterRL\\Scripts\\python.exe\n",
      "C:\\Users\\07jh0\\AppData\\Local\\Programs\\Python\\Python38\\python.exe\n",
      "C:\\Users\\07jh0\\AppData\\Local\\Programs\\Python\\Python310\\python.exe\n",
      "C:\\Users\\07jh0\\AppData\\Local\\Microsoft\\WindowsApps\\python.exe\n"
     ]
    }
   ],
   "source": [
    "!where python"
   ]
  },
  {
   "cell_type": "code",
   "execution_count": 3,
   "metadata": {},
   "outputs": [],
   "source": [
    "env = retro.make(game='StreetFighterIISpecialChampionEdition-Genesis')"
   ]
  },
  {
   "cell_type": "code",
   "execution_count": 24,
   "metadata": {},
   "outputs": [],
   "source": [
    "env.close()"
   ]
  },
  {
   "cell_type": "code",
   "execution_count": 4,
   "metadata": {},
   "outputs": [
    {
     "name": "stderr",
     "output_type": "stream",
     "text": [
      "c:\\users\\07jh0\\projects\\streetfighterrl\\lib\\site-packages\\pyglet\\image\\codecs\\wic.py:406: UserWarning: [WinError -2147417850] Cannot change thread mode after it is set\n",
      "  warnings.warn(str(err))\n"
     ]
    },
    {
     "name": "stdout",
     "output_type": "stream",
     "text": [
      "500.0\n",
      "1000.0\n",
      "500.0\n",
      "500.0\n",
      "100.0\n",
      "500.0\n",
      "300.0\n",
      "100.0\n",
      "100.0\n",
      "100.0\n",
      "100.0\n",
      "100.0\n",
      "100.0\n",
      "100.0\n",
      "1000.0\n",
      "1000.0\n",
      "1000.0\n",
      "1000.0\n",
      "1000.0\n",
      "1000.0\n",
      "1000.0\n",
      "1000.0\n",
      "1000.0\n",
      "10000.0\n",
      "1000.0\n",
      "400.0\n",
      "300.0\n",
      "500.0\n",
      "100.0\n",
      "100.0\n",
      "300.0\n",
      "1000.0\n",
      "100.0\n",
      "100.0\n",
      "100.0\n",
      "100.0\n",
      "100.0\n",
      "100.0\n",
      "100.0\n",
      "100.0\n",
      "100.0\n",
      "100.0\n",
      "100.0\n",
      "1000.0\n",
      "1000.0\n",
      "1000.0\n",
      "1000.0\n",
      "1000.0\n",
      "1000.0\n",
      "1000.0\n",
      "1000.0\n",
      "300.0\n",
      "500.0\n",
      "500.0\n",
      "300.0\n",
      "300.0\n",
      "500.0\n",
      "500.0\n",
      "100.0\n",
      "100.0\n",
      "400.0\n",
      "1500.0\n",
      "100.0\n",
      "100.0\n",
      "100.0\n",
      "100.0\n",
      "100.0\n",
      "1000.0\n",
      "1000.0\n",
      "10000.0\n",
      "1000.0\n"
     ]
    }
   ],
   "source": [
    "obs = env.reset()\n",
    "# Set flag to flase\n",
    "done = False\n",
    "for game in range(1): \n",
    "    while not done: \n",
    "        if done: \n",
    "            obs = env.reset()\n",
    "        env.render()\n",
    "        obs, reward, done, info = env.step(env.action_space.sample())\n",
    "        time.sleep(0.01)\n",
    "        if reward > 0:\n",
    "            print(reward)"
   ]
  },
  {
   "cell_type": "code",
   "execution_count": 18,
   "metadata": {},
   "outputs": [
    {
     "name": "stdout",
     "output_type": "stream",
     "text": [
      "0.25.2\n"
     ]
    }
   ],
   "source": [
    "from gym.version import VERSION \n",
    "print(VERSION)"
   ]
  },
  {
   "cell_type": "code",
   "execution_count": null,
   "metadata": {},
   "outputs": [],
   "source": []
  }
 ],
 "metadata": {
  "kernelspec": {
   "display_name": "StreetFighter",
   "language": "python",
   "name": "streetfighter"
  },
  "language_info": {
   "codemirror_mode": {
    "name": "ipython",
    "version": 3
   },
   "file_extension": ".py",
   "mimetype": "text/x-python",
   "name": "python",
   "nbconvert_exporter": "python",
   "pygments_lexer": "ipython3",
   "version": "3.8.10"
  }
 },
 "nbformat": 4,
 "nbformat_minor": 4
}
